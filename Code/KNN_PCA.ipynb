{
 "cells": [
  {
   "cell_type": "code",
   "execution_count": 2,
   "metadata": {
    "collapsed": true
   },
   "outputs": [],
   "source": [
    "# Import the modules\n",
    "from sklearn.externals import joblib\n",
    "from sklearn import datasets\n",
    "from skimage.feature import hog\n",
    "from sklearn.svm import LinearSVC\n",
    "from sklearn.neighbors import KNeighborsClassifier\n",
    "from sklearn.decomposition import RandomizedPCA\n",
    "import numpy as np\n",
    "from collections import Counter\n",
    "from sklearn.datasets import load_digits\n",
    "import csv\n",
    "import random\n",
    "import math\n",
    "import operator\n",
    "import matplotlib.pyplot as plt\n",
    "from termcolor import colored,cprint\n",
    "\n",
    "# Import datasets, classifiers and performance metrics\n",
    "\n",
    "from sklearn.datasets import load_iris\n",
    "from sklearn import datasets, svm, metrics\n",
    "from sklearn.cross_validation import KFold\n",
    "import cv2\n"
   ]
  },
  {
   "cell_type": "markdown",
   "metadata": {},
   "source": [
    "# K Nearest Neighbours Implementation"
   ]
  },
  {
   "cell_type": "code",
   "execution_count": 3,
   "metadata": {
    "collapsed": true
   },
   "outputs": [],
   "source": [
    "#####################  Euclidean Distance   #########################\n",
    "\n",
    "def euclideanDistance(x1, x2, length):\n",
    "    distance = 0\n",
    "    for x in range(length):\n",
    "        distance += pow((x1[x] - x2[x]), 2)\n",
    "    return math.sqrt(distance)"
   ]
  },
  {
   "cell_type": "code",
   "execution_count": 4,
   "metadata": {
    "collapsed": true
   },
   "outputs": [],
   "source": [
    "#####################  FInd the Neighbors   #########################\n",
    "\n",
    "\n",
    "def Find_Neighbors(trainingSet, testData, k):\n",
    "    distances = []\n",
    "    \n",
    "    length = len(testData)-1\n",
    "    for x in range(len(trainingSet)):\n",
    "        dist = euclideanDistance(testData, trainingSet[x], length)\n",
    "        distances.append((trainingSet[x], dist))\n",
    "    distances.sort(key=operator.itemgetter(1))\n",
    "    neighbors = []\n",
    "    for x in range(k):\n",
    "        neighbors.append(distances[x][0])\n",
    "    return neighbors"
   ]
  },
  {
   "cell_type": "code",
   "execution_count": 5,
   "metadata": {
    "collapsed": true
   },
   "outputs": [],
   "source": [
    "######################### Predict the data   ########################\n",
    "\n",
    "def Predict(neighbors):\n",
    "    class_votes = {}\n",
    "    for x in range(len(neighbors)):\n",
    "        response = neighbors[x][-1]\n",
    "        if response in class_votes:\n",
    "            class_votes[response] += 1\n",
    "        else:\n",
    "            class_votes[response] = 1\n",
    "    sorted_votes = sorted(class_votes.iteritems(), key=operator.itemgetter(1), reverse=True)\n",
    "    return sorted_votes[0][0]"
   ]
  },
  {
   "cell_type": "code",
   "execution_count": 6,
   "metadata": {
    "collapsed": true
   },
   "outputs": [],
   "source": [
    "#########################  Find Accuracy of My model     ########################\n",
    "\n",
    "\n",
    "def Find_Accuracy(testSet, predictions):\n",
    "    correct = 0\n",
    "    for x in range(len(testSet)):\n",
    "        \n",
    "        if testSet[x] == predictions[x]:\n",
    "            correct += 1\n",
    "            print colored(\">>Predicted Result {0} and Actual Result {1}\" \\\n",
    "                          .format(predictions[x],testSet[x]),'green')\n",
    "    \n",
    "        else:\n",
    "            #pass\n",
    "            cprint(\">>Predicted Result {0} and Actual Result {1}\" \\\n",
    "                          .format(predictions[x],testSet[x]),None,'on_red')\n",
    "\n",
    "    return ((correct/float(len(testSet))) * 100.0),correct"
   ]
  },
  {
   "cell_type": "code",
   "execution_count": null,
   "metadata": {
    "collapsed": true
   },
   "outputs": [],
   "source": []
  },
  {
   "cell_type": "markdown",
   "metadata": {},
   "source": [
    "#  Implementation of Principal Component Analysis"
   ]
  },
  {
   "cell_type": "code",
   "execution_count": 8,
   "metadata": {
    "collapsed": false
   },
   "outputs": [],
   "source": [
    "#############################  Implementation of PCA  ##########################\n",
    "\n",
    "def Find_PCA(train, trainlab, test, labels, num=None):\n",
    "\n",
    "    if num is None:\n",
    "        num=len(test)\n",
    "\n",
    "    train_pca = np.array(train)\n",
    "    test_pca = np.array(test)\n",
    "\n",
    "    n_components = 10\n",
    "\n",
    "    pca = RandomizedPCA(n_components=n_components).fit(train_pca)\n",
    "    X_Train = pca.transform(train_pca)\n",
    "    Y_Train = trainlab\n",
    "    X_Test = pca.transform(test_pca)\n",
    "    Y_Test = labels\n",
    "    y_predictions = []\n",
    "    y_test = []\n",
    "    \n",
    "    \n",
    "    #print X_Train.shape,Y_Train.shape\n",
    "    #print X_Test.shape,Y_Test.shape\n",
    "    trainingSet = np.concatenate((X_Train, Y_Train), axis=1)\n",
    "    testSet = np.concatenate((X_Test, Y_Test), axis=1)\n",
    "    predictions=[]\n",
    "    k = 3\n",
    "\n",
    "    for x in range(len(testSet)):\n",
    "        neighbors = Find_Neighbors(trainingSet, testSet[x], k)\n",
    "\n",
    "        result = Predict(neighbors)\n",
    "        #print int(result)\n",
    "        y_predictions.append((result))\n",
    "        y_test.append((testSet[x][-1]))\n",
    "        #print('>> predicted=' + repr(result) + ', actual=' + repr(testSet[x][-1]))\n",
    "    \n",
    "    #print y_predictions,y_test\n",
    "    accuracy,correct = Find_Accuracy(y_test, y_predictions)\n",
    "\n",
    "    print \"\\n\\nTested \", num, \" digits\"\n",
    "    print \"correct: \", correct, \"wrong: \", (num-correct), \"error rate: \", \\\n",
    "                float(num-correct)*100/(correct+(num-correct)), \"%\"\n",
    "    print \"got correctly \", float(correct)*100/(correct+(num-correct)), \"%\"\n",
    "    \n",
    "    return y_predictions"
   ]
  },
  {
   "cell_type": "code",
   "execution_count": null,
   "metadata": {
    "collapsed": true
   },
   "outputs": [],
   "source": []
  },
  {
   "cell_type": "markdown",
   "metadata": {
    "collapsed": true
   },
   "source": [
    "# MNIST Handwritten Digit Training Part"
   ]
  },
  {
   "cell_type": "code",
   "execution_count": 9,
   "metadata": {
    "collapsed": false
   },
   "outputs": [
    {
     "name": "stdout",
     "output_type": "stream",
     "text": [
      "Count of digits in dataset Counter({1: 7877, 7: 7293, 3: 7141, 2: 6990, 9: 6958, 0: 6903, 6: 6876, 8: 6825, 4: 6824, 5: 6313})\n"
     ]
    }
   ],
   "source": [
    "##############################  MNIST Digit Training Part for HOG Features  #####################################\n",
    "\n",
    "# Hog Fetures are used for Object Detection. So as our project is about Handwritten digit recognition, we have \n",
    "#     used Hog feature.  \n",
    "\n",
    "\n",
    "# digits = load_digits()\n",
    "# np.unique(digits.target)\n",
    "\n",
    "# features = np.array(digits.data, 'int16') \n",
    "# labels = np.array(digits.target, 'int')\n",
    "# #print features[0].shape\n",
    "\n",
    "# list_hog_fd = []\n",
    "# for feature in features:\n",
    "#     fd = hog(feature.reshape((8, 8)), orientations = 9, pixels_per_cell=(4, 4), \\\n",
    "#              cells_per_block=(1, 1), visualise=False)\n",
    "#     list_hog_fd.append(fd)\n",
    "# hog_features = np.array(list_hog_fd, 'float64')\n",
    "\n",
    "\n",
    "\n",
    "dataset = datasets.fetch_mldata(\"MNIST Original\")\n",
    "\n",
    "# Extract the features and labels\n",
    "features = np.array(dataset.data, 'int16') \n",
    "labels = np.array(dataset.target, 'int')\n",
    "\n",
    "# print features[0].shape\n",
    "# Extract the hog features\n",
    "list_hog_fd = []\n",
    "for feature in features:\n",
    "    # Hog Feature for object Identification\n",
    "    fd = hog(feature.reshape((28, 28)), orientations=9, pixels_per_cell=(14, 14), \\\n",
    "             cells_per_block=(1, 1), visualise=False)\n",
    "    list_hog_fd.append(fd)\n",
    "hog_features = np.array(list_hog_fd, 'float64')\n",
    "\n",
    "# Count the number of Samples for every digit\n",
    "print \"Count of digits in dataset\", Counter(labels)\n",
    "accuracy = 0.0\n",
    "\n",
    "X,Y = hog_features,labels\n",
    "Y = Y.reshape(Y.shape[0],1)"
   ]
  },
  {
   "cell_type": "code",
   "execution_count": 10,
   "metadata": {
    "collapsed": false
   },
   "outputs": [
    {
     "name": "stdout",
     "output_type": "stream",
     "text": [
      "(60000, 1) (100, 36)\n"
     ]
    }
   ],
   "source": [
    "X_train, X_test = X[:60000], X[69900:]\n",
    "Y_train, Y_test = Y[:60000], Y[69900:]\n",
    "\n",
    "\n",
    "print Y_train.shape,X_test.shape"
   ]
  },
  {
   "cell_type": "code",
   "execution_count": null,
   "metadata": {
    "collapsed": true
   },
   "outputs": [],
   "source": []
  },
  {
   "cell_type": "markdown",
   "metadata": {},
   "source": [
    "# Apply the Principal Component Analysis algorithm for KNN. "
   ]
  },
  {
   "cell_type": "code",
   "execution_count": 10,
   "metadata": {
    "collapsed": false,
    "scrolled": true
   },
   "outputs": [
    {
     "name": "stdout",
     "output_type": "stream",
     "text": [
      "\u001b[32m>>Predicted Result 9.0 and Actual Result 9.0\u001b[0m\n",
      "\u001b[32m>>Predicted Result 9.0 and Actual Result 9.0\u001b[0m\n",
      "\u001b[32m>>Predicted Result 9.0 and Actual Result 9.0\u001b[0m\n",
      "\u001b[32m>>Predicted Result 9.0 and Actual Result 9.0\u001b[0m\n",
      "\u001b[32m>>Predicted Result 9.0 and Actual Result 9.0\u001b[0m\n",
      "\u001b[32m>>Predicted Result 9.0 and Actual Result 9.0\u001b[0m\n",
      "\u001b[32m>>Predicted Result 9.0 and Actual Result 9.0\u001b[0m\n",
      "\u001b[32m>>Predicted Result 9.0 and Actual Result 9.0\u001b[0m\n",
      "\u001b[32m>>Predicted Result 9.0 and Actual Result 9.0\u001b[0m\n",
      "\u001b[32m>>Predicted Result 9.0 and Actual Result 9.0\u001b[0m\n",
      "\u001b[32m>>Predicted Result 9.0 and Actual Result 9.0\u001b[0m\n",
      "\u001b[32m>>Predicted Result 9.0 and Actual Result 9.0\u001b[0m\n",
      "\u001b[32m>>Predicted Result 9.0 and Actual Result 9.0\u001b[0m\n",
      "\u001b[41m>>Predicted Result 7.0 and Actual Result 9.0\u001b[0m\n",
      "\u001b[41m>>Predicted Result 8.0 and Actual Result 9.0\u001b[0m\n",
      "\u001b[32m>>Predicted Result 9.0 and Actual Result 9.0\u001b[0m\n",
      "\u001b[32m>>Predicted Result 9.0 and Actual Result 9.0\u001b[0m\n",
      "\u001b[32m>>Predicted Result 9.0 and Actual Result 9.0\u001b[0m\n",
      "\u001b[32m>>Predicted Result 9.0 and Actual Result 9.0\u001b[0m\n",
      "\u001b[32m>>Predicted Result 9.0 and Actual Result 9.0\u001b[0m\n",
      "\u001b[32m>>Predicted Result 9.0 and Actual Result 9.0\u001b[0m\n",
      "\u001b[32m>>Predicted Result 9.0 and Actual Result 9.0\u001b[0m\n",
      "\u001b[32m>>Predicted Result 9.0 and Actual Result 9.0\u001b[0m\n",
      "\u001b[32m>>Predicted Result 9.0 and Actual Result 9.0\u001b[0m\n",
      "\u001b[32m>>Predicted Result 9.0 and Actual Result 9.0\u001b[0m\n",
      "\u001b[32m>>Predicted Result 9.0 and Actual Result 9.0\u001b[0m\n",
      "\u001b[32m>>Predicted Result 9.0 and Actual Result 9.0\u001b[0m\n",
      "\u001b[32m>>Predicted Result 9.0 and Actual Result 9.0\u001b[0m\n",
      "\u001b[32m>>Predicted Result 9.0 and Actual Result 9.0\u001b[0m\n",
      "\u001b[32m>>Predicted Result 9.0 and Actual Result 9.0\u001b[0m\n",
      "\u001b[32m>>Predicted Result 9.0 and Actual Result 9.0\u001b[0m\n",
      "\u001b[41m>>Predicted Result 0.0 and Actual Result 9.0\u001b[0m\n",
      "\u001b[32m>>Predicted Result 9.0 and Actual Result 9.0\u001b[0m\n",
      "\u001b[41m>>Predicted Result 0.0 and Actual Result 9.0\u001b[0m\n",
      "\u001b[32m>>Predicted Result 9.0 and Actual Result 9.0\u001b[0m\n",
      "\u001b[41m>>Predicted Result 0.0 and Actual Result 9.0\u001b[0m\n",
      "\u001b[32m>>Predicted Result 9.0 and Actual Result 9.0\u001b[0m\n",
      "\u001b[32m>>Predicted Result 9.0 and Actual Result 9.0\u001b[0m\n",
      "\u001b[32m>>Predicted Result 9.0 and Actual Result 9.0\u001b[0m\n",
      "\u001b[32m>>Predicted Result 9.0 and Actual Result 9.0\u001b[0m\n",
      "\u001b[32m>>Predicted Result 9.0 and Actual Result 9.0\u001b[0m\n",
      "\u001b[32m>>Predicted Result 9.0 and Actual Result 9.0\u001b[0m\n",
      "\u001b[32m>>Predicted Result 9.0 and Actual Result 9.0\u001b[0m\n",
      "\u001b[32m>>Predicted Result 9.0 and Actual Result 9.0\u001b[0m\n",
      "\u001b[32m>>Predicted Result 9.0 and Actual Result 9.0\u001b[0m\n",
      "\u001b[32m>>Predicted Result 9.0 and Actual Result 9.0\u001b[0m\n",
      "\u001b[32m>>Predicted Result 9.0 and Actual Result 9.0\u001b[0m\n",
      "\u001b[32m>>Predicted Result 9.0 and Actual Result 9.0\u001b[0m\n",
      "\u001b[32m>>Predicted Result 9.0 and Actual Result 9.0\u001b[0m\n",
      "\u001b[32m>>Predicted Result 9.0 and Actual Result 9.0\u001b[0m\n",
      "\u001b[32m>>Predicted Result 9.0 and Actual Result 9.0\u001b[0m\n",
      "\u001b[32m>>Predicted Result 9.0 and Actual Result 9.0\u001b[0m\n",
      "\u001b[32m>>Predicted Result 9.0 and Actual Result 9.0\u001b[0m\n",
      "\u001b[32m>>Predicted Result 9.0 and Actual Result 9.0\u001b[0m\n",
      "\u001b[32m>>Predicted Result 9.0 and Actual Result 9.0\u001b[0m\n",
      "\u001b[32m>>Predicted Result 9.0 and Actual Result 9.0\u001b[0m\n",
      "\u001b[41m>>Predicted Result 8.0 and Actual Result 9.0\u001b[0m\n",
      "\u001b[32m>>Predicted Result 9.0 and Actual Result 9.0\u001b[0m\n",
      "\u001b[32m>>Predicted Result 9.0 and Actual Result 9.0\u001b[0m\n",
      "\u001b[41m>>Predicted Result 8.0 and Actual Result 9.0\u001b[0m\n",
      "\u001b[32m>>Predicted Result 9.0 and Actual Result 9.0\u001b[0m\n",
      "\u001b[32m>>Predicted Result 9.0 and Actual Result 9.0\u001b[0m\n",
      "\u001b[32m>>Predicted Result 9.0 and Actual Result 9.0\u001b[0m\n",
      "\u001b[41m>>Predicted Result 7.0 and Actual Result 9.0\u001b[0m\n",
      "\u001b[32m>>Predicted Result 9.0 and Actual Result 9.0\u001b[0m\n",
      "\u001b[32m>>Predicted Result 9.0 and Actual Result 9.0\u001b[0m\n",
      "\u001b[32m>>Predicted Result 9.0 and Actual Result 9.0\u001b[0m\n",
      "\u001b[41m>>Predicted Result 8.0 and Actual Result 9.0\u001b[0m\n",
      "\u001b[32m>>Predicted Result 9.0 and Actual Result 9.0\u001b[0m\n",
      "\u001b[32m>>Predicted Result 9.0 and Actual Result 9.0\u001b[0m\n",
      "\u001b[32m>>Predicted Result 9.0 and Actual Result 9.0\u001b[0m\n",
      "\u001b[41m>>Predicted Result 7.0 and Actual Result 9.0\u001b[0m\n",
      "\u001b[32m>>Predicted Result 9.0 and Actual Result 9.0\u001b[0m\n",
      "\u001b[32m>>Predicted Result 9.0 and Actual Result 9.0\u001b[0m\n",
      "\u001b[32m>>Predicted Result 9.0 and Actual Result 9.0\u001b[0m\n",
      "\u001b[41m>>Predicted Result 8.0 and Actual Result 9.0\u001b[0m\n",
      "\u001b[32m>>Predicted Result 9.0 and Actual Result 9.0\u001b[0m\n",
      "\u001b[41m>>Predicted Result 7.0 and Actual Result 9.0\u001b[0m\n",
      "\u001b[32m>>Predicted Result 9.0 and Actual Result 9.0\u001b[0m\n",
      "\u001b[32m>>Predicted Result 9.0 and Actual Result 9.0\u001b[0m\n",
      "\u001b[41m>>Predicted Result 0.0 and Actual Result 9.0\u001b[0m\n",
      "\u001b[32m>>Predicted Result 9.0 and Actual Result 9.0\u001b[0m\n",
      "\u001b[32m>>Predicted Result 9.0 and Actual Result 9.0\u001b[0m\n",
      "\u001b[32m>>Predicted Result 9.0 and Actual Result 9.0\u001b[0m\n",
      "\u001b[32m>>Predicted Result 9.0 and Actual Result 9.0\u001b[0m\n",
      "\u001b[32m>>Predicted Result 9.0 and Actual Result 9.0\u001b[0m\n",
      "\u001b[32m>>Predicted Result 9.0 and Actual Result 9.0\u001b[0m\n",
      "\u001b[32m>>Predicted Result 9.0 and Actual Result 9.0\u001b[0m\n",
      "\u001b[32m>>Predicted Result 9.0 and Actual Result 9.0\u001b[0m\n",
      "\u001b[32m>>Predicted Result 9.0 and Actual Result 9.0\u001b[0m\n",
      "\u001b[32m>>Predicted Result 9.0 and Actual Result 9.0\u001b[0m\n",
      "\u001b[41m>>Predicted Result 0.0 and Actual Result 9.0\u001b[0m\n",
      "\u001b[32m>>Predicted Result 9.0 and Actual Result 9.0\u001b[0m\n",
      "\u001b[32m>>Predicted Result 9.0 and Actual Result 9.0\u001b[0m\n",
      "\u001b[32m>>Predicted Result 9.0 and Actual Result 9.0\u001b[0m\n",
      "\u001b[32m>>Predicted Result 9.0 and Actual Result 9.0\u001b[0m\n",
      "\u001b[32m>>Predicted Result 9.0 and Actual Result 9.0\u001b[0m\n",
      "\u001b[32m>>Predicted Result 9.0 and Actual Result 9.0\u001b[0m\n",
      "\u001b[32m>>Predicted Result 9.0 and Actual Result 9.0\u001b[0m\n",
      "\u001b[32m>>Predicted Result 9.0 and Actual Result 9.0\u001b[0m\n",
      "\n",
      "\n",
      "Tested  100  digits\n",
      "correct:  86 wrong:  14 error rate:  14.0 %\n",
      "got correctly  86.0 %\n"
     ]
    }
   ],
   "source": [
    "y_predicted = Find_PCA(X_train, Y_train, X_test, Y_test)"
   ]
  },
  {
   "cell_type": "code",
   "execution_count": null,
   "metadata": {
    "collapsed": false
   },
   "outputs": [],
   "source": []
  },
  {
   "cell_type": "markdown",
   "metadata": {},
   "source": [
    "# 1st Handwritten Digit Testing Image"
   ]
  },
  {
   "cell_type": "code",
   "execution_count": 55,
   "metadata": {
    "collapsed": false
   },
   "outputs": [
    {
     "name": "stdout",
     "output_type": "stream",
     "text": [
      "Wait for a moment......\n",
      "\n",
      "\n",
      "My Predicted Result \n",
      "\n",
      "5.0\n",
      "2.0\n",
      "7.0\n"
     ]
    }
   ],
   "source": [
    "####################################  Harsh Handwritting Testing part    #################################### \n",
    "\n",
    "# Read the input image \n",
    "\n",
    "im = cv2.imread(\"harsh.png\")\n",
    "\n",
    "# Convert to grayscale and apply Gaussian filtering\n",
    "im_gray = cv2.cvtColor(im, cv2.COLOR_BGR2GRAY)\n",
    "im_gray = cv2.GaussianBlur(im_gray, (3, 3), 0)\n",
    "\n",
    "############## Original Image  ###################\n",
    "\n",
    "cv2.imshow(\"Original Image\",im)\n",
    "\n",
    "# Threshold the image\n",
    "ret, im_th = cv2.threshold(im_gray, 150, 255, cv2.THRESH_BINARY_INV)\n",
    "\n",
    "# Find contours in the image\n",
    "#cv2.imshow(\"Threshold\",im_th)\n",
    "ctrs, hier = cv2.findContours(im_th.copy(), cv2.RETR_EXTERNAL, cv2.CHAIN_APPROX_SIMPLE)\n",
    "\n",
    "testingSet = [cv2.boundingRect(ctr) for ctr in ctrs]\n",
    "\n",
    "trainingSet = np.concatenate((X_train, Y_train), axis=1)\n",
    "\n",
    "print \"Wait for a moment......\"\n",
    "\n",
    "print \"\\n\\nMy Predicted Result \\n\"\n",
    "i = 0\n",
    "\n",
    "for rect in testingSet:\n",
    "    \n",
    "    cv2.rectangle(im, (rect[0], rect[1]), (rect[0] + rect[2], rect[1] + rect[3]), (0, 255, 0), 3) \n",
    "    \n",
    "    leng = int(rect[3] * 1.6)\n",
    "    pt1 = int(rect[1] + rect[3] // 2 - leng // 2)\n",
    "    pt2 = int(rect[0] + rect[2] // 2 - leng // 2)\n",
    "    roi = im_th[pt1:pt1+leng, pt2:pt2+leng]\n",
    "    \n",
    "    roi = cv2.resize(roi, (28, 28), interpolation=cv2.INTER_AREA)\n",
    "    \n",
    "    roi = cv2.dilate(roi, (4, 4))\n",
    "    \n",
    "    roi_hog_fd = hog(roi, orientations=9, pixels_per_cell=(14, 14), cells_per_block=(1, 1), visualise=False)\n",
    "    #print (roi_hog_fd).shape\n",
    "    k = 3\n",
    "    \n",
    "    neighbors = Find_Neighbors(trainingSet, roi_hog_fd, k)\n",
    "    \n",
    "    result = Predict(neighbors)\n",
    "    #print result\n",
    "    y_test = np.array([[[5]],[[2]],[[7]]])\n",
    "    y_predicted = Find_PCA(X_train, Y_train, roi_hog_fd, y_test[i])\n",
    "    i+=1\n",
    "    #print y_predicted\n",
    "    cv2.putText(im, str(int(result)), (rect[0], rect[1]),cv2.FONT_HERSHEY_DUPLEX, 1, (255, 0, 0), 2)\n",
    "    \n",
    "cv2.imshow(\"Resulting Image\", im)\n",
    "cv2.waitKey(0)\n",
    "cv2.destroyAllWindows()"
   ]
  },
  {
   "cell_type": "code",
   "execution_count": null,
   "metadata": {
    "collapsed": false
   },
   "outputs": [],
   "source": []
  },
  {
   "cell_type": "markdown",
   "metadata": {},
   "source": [
    "# Plot the Accuracy Curve"
   ]
  },
  {
   "cell_type": "code",
   "execution_count": 5,
   "metadata": {
    "collapsed": false
   },
   "outputs": [],
   "source": [
    "##########################  Plot the Accuracy Curve  ###############################\n",
    "\n",
    "\n",
    "plt.plot([5,10,20,40,60,80,100,200,400,784], [77.3,80.2,81.2,81.9,82.7,81.2,82.8,81.7,82.9,86.0],'-ro')\n",
    "plt.xlabel(\"Number of Features\")\n",
    "plt.ylabel(\"Accuracy\")\n",
    "plt.axis([0, 800, 0, 100])\n",
    "plt.text(400,90,\"Inbuilt Accuracy = 87.0 %\")\n",
    "plt.title(\"KNN Accuracy Varies with Features \")\n",
    "plt.show()"
   ]
  },
  {
   "cell_type": "code",
   "execution_count": null,
   "metadata": {
    "collapsed": true
   },
   "outputs": [],
   "source": []
  },
  {
   "cell_type": "markdown",
   "metadata": {},
   "source": [
    "# KNN and PCA Implemetation using Inbuilt Method"
   ]
  },
  {
   "cell_type": "code",
   "execution_count": 11,
   "metadata": {
    "collapsed": false
   },
   "outputs": [
    {
     "name": "stdout",
     "output_type": "stream",
     "text": [
      "K-Nearest Neighbors with PCA Accuracy:  87.0 %\n"
     ]
    },
    {
     "name": "stderr",
     "output_type": "stream",
     "text": [
      "/usr/local/lib/python2.7/dist-packages/ipykernel/__main__.py:23: DataConversionWarning: A column-vector y was passed when a 1d array was expected. Please change the shape of y to (n_samples, ), for example using ravel().\n"
     ]
    }
   ],
   "source": [
    "#########################  Inbuilt Method for KNN and PCA   ##########################\n",
    "\n",
    "# http://brianfarris.me/static/digit_recognizer.html\n",
    "\n",
    "from sklearn.decomposition import RandomizedPCA\n",
    "from sklearn.decomposition import PCA\n",
    "from sklearn.metrics import accuracy_score\n",
    "\n",
    "x_train, x_test = X[:60000], X[69900:]\n",
    "y_train, y_test = Y[:60000], Y[69900:]\n",
    "\n",
    "\n",
    "pca = RandomizedPCA(n_components=10).fit(x_train)\n",
    "\n",
    "\n",
    "xtrain = pca.transform(x_train)\n",
    "\n",
    "xtest = pca.transform(x_test)\n",
    "\n",
    "clf = KNeighborsClassifier()\n",
    "\n",
    "#fitting knn\n",
    "clf = clf.fit(xtrain, y_train)\n",
    "\n",
    "#predicting\n",
    "y_pred = clf.predict(xtest)\n",
    "\n",
    "acc_knn = accuracy_score(y_test, y_pred)\n",
    "\n",
    "print \"K-Nearest Neighbors with PCA Accuracy: \",(acc_knn*100) , \"%\""
   ]
  },
  {
   "cell_type": "code",
   "execution_count": null,
   "metadata": {
    "collapsed": true
   },
   "outputs": [],
   "source": []
  }
 ],
 "metadata": {
  "kernelspec": {
   "display_name": "Python 2",
   "language": "python",
   "name": "python2"
  },
  "language_info": {
   "codemirror_mode": {
    "name": "ipython",
    "version": 2
   },
   "file_extension": ".py",
   "mimetype": "text/x-python",
   "name": "python",
   "nbconvert_exporter": "python",
   "pygments_lexer": "ipython2",
   "version": "2.7.6"
  }
 },
 "nbformat": 4,
 "nbformat_minor": 0
}
