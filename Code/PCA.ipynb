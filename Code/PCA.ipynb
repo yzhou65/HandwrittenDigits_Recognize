{
 "cells": [
  {
   "cell_type": "code",
   "execution_count": null,
   "metadata": {
    "collapsed": true
   },
   "outputs": [],
   "source": [
    "# import numpy as np\n",
    "# import matplotlib.pyplot as plt\n",
    "# from itertools import product\n",
    "# from sklearn.decomposition import RandomizedPCA\n",
    "# from sklearn.datasets import fetch_mldata\n",
    "# from sklearn.utils import shuffle\n",
    "\n",
    "# mnist = fetch_mldata(\"MNIST original\")\n",
    "# X_train, y_train = mnist.data[:60000] / 255., mnist.target[:60000]\n",
    "\n",
    "# X_train, y_train = shuffle(X_train, y_train)\n",
    "# X_train, y_train = X_train[:5000], y_train[:5000]  # lets subsample a bit for a first impression\n",
    "\n",
    "# pca = RandomizedPCA(n_components=2)\n",
    "# fig, plots = plt.subplots(10, 10)\n",
    "# fig.set_size_inches(50, 50)\n",
    "# plt.prism()\n",
    "# for i, j in product(xrange(10), repeat=2):\n",
    "#     if i > j:\n",
    "#         continue\n",
    "#     X_ = X_train[(y_train == i) + (y_train == j)]\n",
    "#     y_ = y_train[(y_train == i) + (y_train == j)]\n",
    "#     X_transformed = pca.fit_transform(X_)\n",
    "#     plots[i, j].scatter(X_transformed[:, 0], X_transformed[:, 1], c=y_)\n",
    "#     plots[i, j].set_xticks(())\n",
    "#     plots[i, j].set_yticks(())\n",
    "  \n",
    "#     plots[j, i].scatter(X_transformed[:, 0], X_transformed[:, 1], c=y_)\n",
    "#     plots[j, i].set_xticks(())\n",
    "#     plots[j, i].set_yticks(())\n",
    "#     if i == 0:\n",
    "#         plots[i, j].set_title(j)\n",
    "#         plots[j, i].set_ylabel(j)\n",
    "    \n",
    "#     #plt.scatter(X_transformed[:, 0], X_transformed[:, 1], c=y_)\n",
    "# plt.tight_layout()\n",
    "# plt.show()"
   ]
  },
  {
   "cell_type": "code",
   "execution_count": null,
   "metadata": {
    "collapsed": true
   },
   "outputs": [],
   "source": []
  },
  {
   "cell_type": "code",
   "execution_count": null,
   "metadata": {
    "collapsed": false
   },
   "outputs": [],
   "source": []
  },
  {
   "cell_type": "code",
   "execution_count": 4,
   "metadata": {
    "collapsed": false
   },
   "outputs": [],
   "source": [
    "def recognizePCA(train, trainlab, test, labels, num=None):\n",
    "\n",
    "    if num is None:\n",
    "        num=len(test)\n",
    "\n",
    "    train4pca = np.array(train)\n",
    "    test4pca = np.array(test)\n",
    "\n",
    "    n_components = 20\n",
    "\n",
    "    #fitting pca\n",
    "    pca = RandomizedPCA(n_components=n_components).fit(train4pca)\n",
    "\n",
    "\n",
    "\n",
    "    xtrain = pca.transform(train4pca)\n",
    "\n",
    "    xtest = pca.transform(test4pca)\n",
    "\n",
    "    clf = KNeighborsClassifier()\n",
    "\n",
    "    #fitting knn\n",
    "    clf = clf.fit(xtrain, trainlab)\n",
    "\n",
    "    #predicting\n",
    "    y_pred = clf.predict(xtest[:num])\n",
    "\n",
    "\n",
    "\n",
    "#checking the result and printing output\n",
    "    r=0\n",
    "    w=0\n",
    "    for i in range(num):\n",
    "        if y_pred[i] == labels[i]:\n",
    "            r+=1\n",
    "        else:\n",
    "            w+=1\n",
    "    print \"tested \", num, \" digits\"\n",
    "    print \"correct: \", r, \"wrong: \", w, \"error rate: \", float(w)*100/(r+w), \"%\"\n",
    "    print \"got correctly \", float(r)*100/(r+w), \"%\"\n"
   ]
  },
  {
   "cell_type": "code",
   "execution_count": null,
   "metadata": {
    "collapsed": true
   },
   "outputs": [],
   "source": []
  },
  {
   "cell_type": "code",
   "execution_count": 5,
   "metadata": {
    "collapsed": false
   },
   "outputs": [
    {
     "name": "stdout",
     "output_type": "stream",
     "text": [
      "tested  10000  digits\n",
      "correct:  9692 wrong:  308 error rate:  3.08 %\n",
      "got correctly  96.92 %\n"
     ]
    }
   ],
   "source": [
    "import numpy as np\n",
    "from sklearn.decomposition import RandomizedPCA\n",
    "from sklearn.neighbors import KNeighborsClassifier\n",
    "from sklearn.datasets import fetch_mldata\n",
    "\n",
    "mnist = fetch_mldata('MNIST original')\n",
    "clables = [0, 1, 2, 3, 4, 5, 6, 7, 8, 9]\n",
    "np.unique(mnist.target)\n",
    "\n",
    "X, y = mnist.data / 255., mnist.target\n",
    "\n",
    "X_train, X_test = X[:60000], X[60000:]\n",
    "y_train, y_test = y[:60000], y[60000:]\n",
    "\n",
    "\n",
    "recognizePCA(X_train, y_train, X_test, y_test)"
   ]
  },
  {
   "cell_type": "code",
   "execution_count": 6,
   "metadata": {
    "collapsed": false
   },
   "outputs": [
    {
     "data": {
      "text/plain": [
       "(60000,)"
      ]
     },
     "execution_count": 6,
     "metadata": {},
     "output_type": "execute_result"
    }
   ],
   "source": [
    "y_train.shape"
   ]
  },
  {
   "cell_type": "code",
   "execution_count": null,
   "metadata": {
    "collapsed": true
   },
   "outputs": [],
   "source": []
  },
  {
   "cell_type": "code",
   "execution_count": null,
   "metadata": {
    "collapsed": true
   },
   "outputs": [],
   "source": []
  },
  {
   "cell_type": "code",
   "execution_count": null,
   "metadata": {
    "collapsed": true
   },
   "outputs": [],
   "source": []
  },
  {
   "cell_type": "code",
   "execution_count": null,
   "metadata": {
    "collapsed": true
   },
   "outputs": [],
   "source": []
  },
  {
   "cell_type": "code",
   "execution_count": null,
   "metadata": {
    "collapsed": true
   },
   "outputs": [],
   "source": []
  },
  {
   "cell_type": "code",
   "execution_count": null,
   "metadata": {
    "collapsed": true
   },
   "outputs": [],
   "source": []
  },
  {
   "cell_type": "code",
   "execution_count": null,
   "metadata": {
    "collapsed": true
   },
   "outputs": [],
   "source": []
  },
  {
   "cell_type": "code",
   "execution_count": null,
   "metadata": {
    "collapsed": true
   },
   "outputs": [],
   "source": []
  },
  {
   "cell_type": "code",
   "execution_count": null,
   "metadata": {
    "collapsed": true
   },
   "outputs": [],
   "source": []
  }
 ],
 "metadata": {
  "kernelspec": {
   "display_name": "Python 2",
   "language": "python",
   "name": "python2"
  },
  "language_info": {
   "codemirror_mode": {
    "name": "ipython",
    "version": 2
   },
   "file_extension": ".py",
   "mimetype": "text/x-python",
   "name": "python",
   "nbconvert_exporter": "python",
   "pygments_lexer": "ipython2",
   "version": "2.7.6"
  }
 },
 "nbformat": 4,
 "nbformat_minor": 0
}
